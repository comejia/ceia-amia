{
 "cells": [
  {
   "cell_type": "code",
   "execution_count": 1,
   "id": "627568b1",
   "metadata": {},
   "outputs": [],
   "source": [
    "from PIL import Image\n",
    "import requests\n",
    "import shutil\n",
    "import numpy as np\n",
    "import matplotlib.pyplot as plt"
   ]
  },
  {
   "cell_type": "code",
   "execution_count": 2,
   "id": "d8c9f297",
   "metadata": {},
   "outputs": [],
   "source": [
    "A = np.array([[1, 2, -1, 0], [2,3,1,6], [0,1,0,1]])\n",
    "x = np.array([1, 2, 3])"
   ]
  },
  {
   "cell_type": "code",
   "execution_count": 3,
   "id": "90a94158",
   "metadata": {},
   "outputs": [
    {
     "data": {
      "text/plain": [
       "((3, 3), (3,), (3, 4))"
      ]
     },
     "execution_count": 3,
     "metadata": {},
     "output_type": "execute_result"
    }
   ],
   "source": [
    "# aplicar la SVD/DVS en numpy es 1 línea de código\n",
    "u, s, vh = np.linalg.svd(A, full_matrices=False)\n",
    "\n",
    "# ¿qué formas tienen?\n",
    "u.shape, s.shape, vh.shape"
   ]
  },
  {
   "cell_type": "code",
   "execution_count": 4,
   "id": "f372c142",
   "metadata": {},
   "outputs": [
    {
     "data": {
      "text/plain": [
       "array([[ 0.39705882,  0.29411765, -1.72058824],\n",
       "       [ 0.19117647, -0.11764706,  0.83823529],\n",
       "       [-0.22058824,  0.05882353, -0.04411765],\n",
       "       [-0.19117647,  0.11764706,  0.16176471]])"
      ]
     },
     "execution_count": 4,
     "metadata": {},
     "output_type": "execute_result"
    }
   ],
   "source": [
    "A_daga = vh.T @ np.linalg.inv(np.diag(s)) @ u.T\n",
    "A_daga"
   ]
  },
  {
   "cell_type": "code",
   "execution_count": 5,
   "id": "5683f0a3",
   "metadata": {},
   "outputs": [
    {
     "data": {
      "text/plain": [
       "array([-4.17647059,  2.47058824, -0.23529412,  0.52941176])"
      ]
     },
     "execution_count": 5,
     "metadata": {},
     "output_type": "execute_result"
    }
   ],
   "source": [
    "A_daga @ x"
   ]
  }
 ],
 "metadata": {
  "kernelspec": {
   "display_name": "ceia-amia",
   "language": "python",
   "name": "python3"
  },
  "language_info": {
   "codemirror_mode": {
    "name": "ipython",
    "version": 3
   },
   "file_extension": ".py",
   "mimetype": "text/x-python",
   "name": "python",
   "nbconvert_exporter": "python",
   "pygments_lexer": "ipython3",
   "version": "3.12.8"
  }
 },
 "nbformat": 4,
 "nbformat_minor": 5
}
