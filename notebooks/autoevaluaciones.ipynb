{
 "cells": [
  {
   "cell_type": "code",
   "execution_count": 2,
   "id": "627568b1",
   "metadata": {},
   "outputs": [],
   "source": [
    "from PIL import Image\n",
    "import requests\n",
    "import shutil\n",
    "import numpy as np\n",
    "import matplotlib.pyplot as plt"
   ]
  },
  {
   "cell_type": "code",
   "execution_count": 2,
   "id": "d8c9f297",
   "metadata": {},
   "outputs": [],
   "source": [
    "A = np.array([[1, 2, -1, 0], [2,3,1,6], [0,1,0,1]])\n",
    "x = np.array([1, 2, 3])"
   ]
  },
  {
   "cell_type": "code",
   "execution_count": 3,
   "id": "90a94158",
   "metadata": {},
   "outputs": [
    {
     "data": {
      "text/plain": [
       "((3, 3), (3,), (3, 4))"
      ]
     },
     "execution_count": 3,
     "metadata": {},
     "output_type": "execute_result"
    }
   ],
   "source": [
    "# aplicar la SVD/DVS en numpy es 1 línea de código\n",
    "u, s, vh = np.linalg.svd(A, full_matrices=False)\n",
    "\n",
    "# ¿qué formas tienen?\n",
    "u.shape, s.shape, vh.shape"
   ]
  },
  {
   "cell_type": "code",
   "execution_count": 4,
   "id": "f372c142",
   "metadata": {},
   "outputs": [
    {
     "data": {
      "text/plain": [
       "array([[ 0.39705882,  0.29411765, -1.72058824],\n",
       "       [ 0.19117647, -0.11764706,  0.83823529],\n",
       "       [-0.22058824,  0.05882353, -0.04411765],\n",
       "       [-0.19117647,  0.11764706,  0.16176471]])"
      ]
     },
     "execution_count": 4,
     "metadata": {},
     "output_type": "execute_result"
    }
   ],
   "source": [
    "A_daga = vh.T @ np.linalg.inv(np.diag(s)) @ u.T\n",
    "A_daga"
   ]
  },
  {
   "cell_type": "code",
   "execution_count": 5,
   "id": "5683f0a3",
   "metadata": {},
   "outputs": [
    {
     "data": {
      "text/plain": [
       "array([-4.17647059,  2.47058824, -0.23529412,  0.52941176])"
      ]
     },
     "execution_count": 5,
     "metadata": {},
     "output_type": "execute_result"
    }
   ],
   "source": [
    "A_daga @ x"
   ]
  },
  {
   "cell_type": "code",
   "execution_count": 53,
   "id": "6c88866d",
   "metadata": {},
   "outputs": [],
   "source": [
    " # TP5\n",
    "w1= np.array([[0.1, -0.5], [-0.3, -0.9], [0.8, 0.02]])\n",
    "b1 = np.array([[0.1, 0.5, 0.8]]).T\n",
    "w2 = np.array([[-0.4, 0.2, -0.5]])\n",
    "b2 = np.array([0.7])\n",
    "\n",
    "x = np.array([[1.8, -3.4]]).T\n",
    "y = np.array([5])"
   ]
  },
  {
   "cell_type": "code",
   "execution_count": 54,
   "id": "5b395d37",
   "metadata": {},
   "outputs": [
    {
     "data": {
      "text/plain": [
       "((3, 2), (3, 1), (1, 3), (1,), (2, 1), (1,))"
      ]
     },
     "execution_count": 54,
     "metadata": {},
     "output_type": "execute_result"
    }
   ],
   "source": [
    "w1.shape, b1.shape, w2.shape, b2.shape, x.shape, y.shape"
   ]
  },
  {
   "cell_type": "code",
   "execution_count": 57,
   "id": "fb99d5ca",
   "metadata": {},
   "outputs": [],
   "source": [
    "def sigmoid(x):\n",
    "    return 1 / (1 + np.exp(-x))"
   ]
  },
  {
   "cell_type": "code",
   "execution_count": 58,
   "id": "de8666d9",
   "metadata": {},
   "outputs": [],
   "source": [
    "def sigmoid_deriv(x):\n",
    "    return sigmoid(x) * (1 - sigmoid(x))"
   ]
  },
  {
   "cell_type": "code",
   "execution_count": 59,
   "id": "09b09710",
   "metadata": {},
   "outputs": [],
   "source": [
    "def loss(y, y_hat):\n",
    "    return ((y - y_hat) ** 2) / 2"
   ]
  },
  {
   "cell_type": "code",
   "execution_count": 60,
   "id": "dee6fbc9",
   "metadata": {},
   "outputs": [],
   "source": [
    "def loss_deriv(y, y_hat):\n",
    "    return y_hat - y"
   ]
  },
  {
   "cell_type": "code",
   "execution_count": 61,
   "id": "b27a5277",
   "metadata": {},
   "outputs": [
    {
     "name": "stdout",
     "output_type": "stream",
     "text": [
      "z1: [[1.98 ]\n",
      " [3.02 ]\n",
      " [2.172]]\n",
      "y1: [[0.87868116]\n",
      " [0.95346953]\n",
      " [0.89770677]]\n",
      "z2: [[0.09036805]]\n",
      "y2: [[0.52257665]]\n",
      "loss: [[10.02365992]]\n"
     ]
    }
   ],
   "source": [
    "z1 = w1 @ x + b1\n",
    "print(\"z1:\", z1)\n",
    "y1 = sigmoid(z1)\n",
    "print(\"y1:\", y1)\n",
    "\n",
    "z2 = w2 @ y1 + b2\n",
    "print(\"z2:\", z2)\n",
    "y2 = sigmoid(z2)\n",
    "print(\"y2:\", y2)\n",
    "\n",
    "l = loss(y, y2)\n",
    "print(\"loss:\", l)"
   ]
  },
  {
   "cell_type": "code",
   "execution_count": 62,
   "id": "fb506930",
   "metadata": {},
   "outputs": [
    {
     "name": "stdout",
     "output_type": "stream",
     "text": [
      "dL/dy2: [[-4.47742335]]\n",
      "dL/dz2: [[-1.11707367]]\n"
     ]
    }
   ],
   "source": [
    "dy2 = loss_deriv(y, y2)\n",
    "print(\"dL/dy2:\", dy2)\n",
    "dz2 = dy2 * sigmoid_deriv(z2) # dL/db2 = db2\n",
    "print(\"dL/dz2:\", dz2)"
   ]
  },
  {
   "cell_type": "code",
   "execution_count": 74,
   "id": "bb5914c2",
   "metadata": {},
   "outputs": [
    {
     "name": "stdout",
     "output_type": "stream",
     "text": [
      "dL/dw2: [[-0.98155159 -1.0650957  -1.0028046 ]]\n"
     ]
    }
   ],
   "source": [
    "dw2 = dz2 @ y1.T\n",
    "print(\"dL/dw2:\", dw2)"
   ]
  },
  {
   "cell_type": "code",
   "execution_count": 75,
   "id": "36bb5827",
   "metadata": {},
   "outputs": [
    {
     "name": "stdout",
     "output_type": "stream",
     "text": [
      "dL/dy1: [[ 0.44682947]\n",
      " [-0.22341473]\n",
      " [ 0.55853684]]\n",
      "dL/dz1: [[ 0.04763228]\n",
      " [-0.00991188]\n",
      " [ 0.05129006]]\n"
     ]
    }
   ],
   "source": [
    "dy1 = dx2 = w2.T @ dz2\n",
    "print(\"dL/dy1:\", dy1)\n",
    "\n",
    "dz1 = dx2 * sigmoid_deriv(z1) # dL/db1 = db1\n",
    "print(\"dL/dz1:\", dz1)"
   ]
  },
  {
   "cell_type": "code",
   "execution_count": 77,
   "id": "a982b462",
   "metadata": {},
   "outputs": [
    {
     "name": "stdout",
     "output_type": "stream",
     "text": [
      "dL/dw2: [[ 0.0857381  -0.16194975]\n",
      " [-0.01784139  0.0337004 ]\n",
      " [ 0.09232211 -0.1743862 ]]\n"
     ]
    }
   ],
   "source": [
    "dw1 = dz1 @ x.T\n",
    "print(\"dL/dw2:\", dw1)"
   ]
  }
 ],
 "metadata": {
  "kernelspec": {
   "display_name": "ceia-amia",
   "language": "python",
   "name": "python3"
  },
  "language_info": {
   "codemirror_mode": {
    "name": "ipython",
    "version": 3
   },
   "file_extension": ".py",
   "mimetype": "text/x-python",
   "name": "python",
   "nbconvert_exporter": "python",
   "pygments_lexer": "ipython3",
   "version": "3.12.8"
  }
 },
 "nbformat": 4,
 "nbformat_minor": 5
}
